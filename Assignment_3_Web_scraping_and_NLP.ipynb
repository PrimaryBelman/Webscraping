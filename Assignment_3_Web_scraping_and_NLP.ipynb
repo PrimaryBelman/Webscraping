{
  "cells": [
    {
      "cell_type": "code",
      "execution_count": null,
      "id": "9803b12a",
      "metadata": {
        "colab": {
          "base_uri": "https://localhost:8080/"
        },
        "id": "9803b12a",
        "outputId": "ada9c67e-efdd-4bd8-b6d1-ee902bbe6fb5"
      },
      "outputs": [
        {
          "output_type": "stream",
          "name": "stdout",
          "text": [
            "Looking in indexes: https://pypi.org/simple, https://us-python.pkg.dev/colab-wheels/public/simple/\n",
            "Collecting selenium\n",
            "  Downloading selenium-4.8.3-py3-none-any.whl (6.5 MB)\n",
            "\u001b[2K     \u001b[90m━━━━━━━━━━━━━━━━━━━━━━━━━━━━━━━━━━━━━━━━\u001b[0m \u001b[32m6.5/6.5 MB\u001b[0m \u001b[31m12.1 MB/s\u001b[0m eta \u001b[36m0:00:00\u001b[0m\n",
            "\u001b[?25hRequirement already satisfied: urllib3[socks]~=1.26 in /usr/local/lib/python3.9/dist-packages (from selenium) (1.26.15)\n",
            "Collecting trio-websocket~=0.9\n",
            "  Downloading trio_websocket-0.10.2-py3-none-any.whl (17 kB)\n",
            "Requirement already satisfied: certifi>=2021.10.8 in /usr/local/lib/python3.9/dist-packages (from selenium) (2022.12.7)\n",
            "Collecting trio~=0.17\n",
            "  Downloading trio-0.22.0-py3-none-any.whl (384 kB)\n",
            "\u001b[2K     \u001b[90m━━━━━━━━━━━━━━━━━━━━━━━━━━━━━━━━━━━━━━━\u001b[0m \u001b[32m384.9/384.9 kB\u001b[0m \u001b[31m9.1 MB/s\u001b[0m eta \u001b[36m0:00:00\u001b[0m\n",
            "\u001b[?25hRequirement already satisfied: idna in /usr/local/lib/python3.9/dist-packages (from trio~=0.17->selenium) (3.4)\n",
            "Collecting async-generator>=1.9\n",
            "  Downloading async_generator-1.10-py3-none-any.whl (18 kB)\n",
            "Requirement already satisfied: sortedcontainers in /usr/local/lib/python3.9/dist-packages (from trio~=0.17->selenium) (2.4.0)\n",
            "Requirement already satisfied: attrs>=19.2.0 in /usr/local/lib/python3.9/dist-packages (from trio~=0.17->selenium) (22.2.0)\n",
            "Requirement already satisfied: exceptiongroup>=1.0.0rc9 in /usr/local/lib/python3.9/dist-packages (from trio~=0.17->selenium) (1.1.1)\n",
            "Requirement already satisfied: sniffio in /usr/local/lib/python3.9/dist-packages (from trio~=0.17->selenium) (1.3.0)\n",
            "Collecting outcome\n",
            "  Downloading outcome-1.2.0-py2.py3-none-any.whl (9.7 kB)\n",
            "Collecting wsproto>=0.14\n",
            "  Downloading wsproto-1.2.0-py3-none-any.whl (24 kB)\n",
            "Requirement already satisfied: PySocks!=1.5.7,<2.0,>=1.5.6 in /usr/local/lib/python3.9/dist-packages (from urllib3[socks]~=1.26->selenium) (1.7.1)\n",
            "Collecting h11<1,>=0.9.0\n",
            "  Downloading h11-0.14.0-py3-none-any.whl (58 kB)\n",
            "\u001b[2K     \u001b[90m━━━━━━━━━━━━━━━━━━━━━━━━━━━━━━━━━━━━━━━━\u001b[0m \u001b[32m58.3/58.3 kB\u001b[0m \u001b[31m3.5 MB/s\u001b[0m eta \u001b[36m0:00:00\u001b[0m\n",
            "\u001b[?25hInstalling collected packages: outcome, h11, async-generator, wsproto, trio, trio-websocket, selenium\n",
            "Successfully installed async-generator-1.10 h11-0.14.0 outcome-1.2.0 selenium-4.8.3 trio-0.22.0 trio-websocket-0.10.2 wsproto-1.2.0\n"
          ]
        }
      ],
      "source": [
        "#pip install selenium"
      ]
    },
    {
      "cell_type": "code",
      "execution_count": null,
      "id": "50dd9a7d",
      "metadata": {
        "scrolled": true,
        "id": "50dd9a7d"
      },
      "outputs": [],
      "source": [
        "from bs4 import BeautifulSoup\n",
        "from urllib.request import urlopen, Request\n",
        "import time\n",
        "from selenium import webdriver\n",
        "from selenium.webdriver.common.by import By\n",
        "# function to check if the button is on the page\n",
        "from selenium.common.exceptions import NoSuchElementException\n",
        "import pandas as pd\n",
        "import re\n",
        "import seaborn as sns\n",
        "import matplotlib.pyplot as plt\n",
        "import numpy as np"
      ]
    },
    {
      "cell_type": "code",
      "execution_count": null,
      "id": "2cbfca4d",
      "metadata": {
        "colab": {
          "base_uri": "https://localhost:8080/",
          "height": 640
        },
        "id": "2cbfca4d",
        "outputId": "baa2a002-d051-4c6b-8dd0-b46741832d0f"
      },
      "outputs": [
        {
          "output_type": "error",
          "ename": "WebDriverException",
          "evalue": "ignored",
          "traceback": [
            "\u001b[0;31m---------------------------------------------------------------------------\u001b[0m",
            "\u001b[0;31mWebDriverException\u001b[0m                        Traceback (most recent call last)",
            "\u001b[0;32m<ipython-input-4-6e346837dda5>\u001b[0m in \u001b[0;36m<cell line: 6>\u001b[0;34m()\u001b[0m\n\u001b[1;32m      4\u001b[0m \u001b[0moptions\u001b[0m\u001b[0;34m.\u001b[0m\u001b[0madd_argument\u001b[0m\u001b[0;34m(\u001b[0m\u001b[0;34m'--incognito'\u001b[0m\u001b[0;34m)\u001b[0m\u001b[0;34m\u001b[0m\u001b[0;34m\u001b[0m\u001b[0m\n\u001b[1;32m      5\u001b[0m \u001b[0moptions\u001b[0m\u001b[0;34m.\u001b[0m\u001b[0madd_argument\u001b[0m\u001b[0;34m(\u001b[0m\u001b[0;34m'--headless'\u001b[0m\u001b[0;34m)\u001b[0m\u001b[0;34m\u001b[0m\u001b[0;34m\u001b[0m\u001b[0m\n\u001b[0;32m----> 6\u001b[0;31m \u001b[0mdriver\u001b[0m \u001b[0;34m=\u001b[0m \u001b[0mwebdriver\u001b[0m\u001b[0;34m.\u001b[0m\u001b[0mChrome\u001b[0m\u001b[0;34m(\u001b[0m\u001b[0moptions\u001b[0m\u001b[0;34m=\u001b[0m\u001b[0moptions\u001b[0m\u001b[0;34m)\u001b[0m\u001b[0;34m\u001b[0m\u001b[0;34m\u001b[0m\u001b[0m\n\u001b[0m",
            "\u001b[0;32m/usr/local/lib/python3.9/dist-packages/selenium/webdriver/chrome/webdriver.py\u001b[0m in \u001b[0;36m__init__\u001b[0;34m(self, executable_path, port, options, service_args, desired_capabilities, service_log_path, chrome_options, service, keep_alive)\u001b[0m\n\u001b[1;32m     78\u001b[0m             \u001b[0mservice\u001b[0m \u001b[0;34m=\u001b[0m \u001b[0mService\u001b[0m\u001b[0;34m(\u001b[0m\u001b[0mexecutable_path\u001b[0m\u001b[0;34m,\u001b[0m \u001b[0mport\u001b[0m\u001b[0;34m,\u001b[0m \u001b[0mservice_args\u001b[0m\u001b[0;34m,\u001b[0m \u001b[0mservice_log_path\u001b[0m\u001b[0;34m)\u001b[0m\u001b[0;34m\u001b[0m\u001b[0;34m\u001b[0m\u001b[0m\n\u001b[1;32m     79\u001b[0m \u001b[0;34m\u001b[0m\u001b[0m\n\u001b[0;32m---> 80\u001b[0;31m         super().__init__(\n\u001b[0m\u001b[1;32m     81\u001b[0m             \u001b[0mDesiredCapabilities\u001b[0m\u001b[0;34m.\u001b[0m\u001b[0mCHROME\u001b[0m\u001b[0;34m[\u001b[0m\u001b[0;34m\"browserName\"\u001b[0m\u001b[0;34m]\u001b[0m\u001b[0;34m,\u001b[0m\u001b[0;34m\u001b[0m\u001b[0;34m\u001b[0m\u001b[0m\n\u001b[1;32m     82\u001b[0m             \u001b[0;34m\"goog\"\u001b[0m\u001b[0;34m,\u001b[0m\u001b[0;34m\u001b[0m\u001b[0;34m\u001b[0m\u001b[0m\n",
            "\u001b[0;32m/usr/local/lib/python3.9/dist-packages/selenium/webdriver/chromium/webdriver.py\u001b[0m in \u001b[0;36m__init__\u001b[0;34m(self, browser_name, vendor_prefix, port, options, service_args, desired_capabilities, service_log_path, service, keep_alive)\u001b[0m\n\u001b[1;32m    102\u001b[0m \u001b[0;34m\u001b[0m\u001b[0m\n\u001b[1;32m    103\u001b[0m         \u001b[0;32mtry\u001b[0m\u001b[0;34m:\u001b[0m\u001b[0;34m\u001b[0m\u001b[0;34m\u001b[0m\u001b[0m\n\u001b[0;32m--> 104\u001b[0;31m             super().__init__(\n\u001b[0m\u001b[1;32m    105\u001b[0m                 command_executor=ChromiumRemoteConnection(\n\u001b[1;32m    106\u001b[0m                     \u001b[0mremote_server_addr\u001b[0m\u001b[0;34m=\u001b[0m\u001b[0mself\u001b[0m\u001b[0;34m.\u001b[0m\u001b[0mservice\u001b[0m\u001b[0;34m.\u001b[0m\u001b[0mservice_url\u001b[0m\u001b[0;34m,\u001b[0m\u001b[0;34m\u001b[0m\u001b[0;34m\u001b[0m\u001b[0m\n",
            "\u001b[0;32m/usr/local/lib/python3.9/dist-packages/selenium/webdriver/remote/webdriver.py\u001b[0m in \u001b[0;36m__init__\u001b[0;34m(self, command_executor, desired_capabilities, browser_profile, proxy, keep_alive, file_detector, options)\u001b[0m\n\u001b[1;32m    284\u001b[0m         \u001b[0mself\u001b[0m\u001b[0;34m.\u001b[0m\u001b[0m_authenticator_id\u001b[0m \u001b[0;34m=\u001b[0m \u001b[0;32mNone\u001b[0m\u001b[0;34m\u001b[0m\u001b[0;34m\u001b[0m\u001b[0m\n\u001b[1;32m    285\u001b[0m         \u001b[0mself\u001b[0m\u001b[0;34m.\u001b[0m\u001b[0mstart_client\u001b[0m\u001b[0;34m(\u001b[0m\u001b[0;34m)\u001b[0m\u001b[0;34m\u001b[0m\u001b[0;34m\u001b[0m\u001b[0m\n\u001b[0;32m--> 286\u001b[0;31m         \u001b[0mself\u001b[0m\u001b[0;34m.\u001b[0m\u001b[0mstart_session\u001b[0m\u001b[0;34m(\u001b[0m\u001b[0mcapabilities\u001b[0m\u001b[0;34m,\u001b[0m \u001b[0mbrowser_profile\u001b[0m\u001b[0;34m)\u001b[0m\u001b[0;34m\u001b[0m\u001b[0;34m\u001b[0m\u001b[0m\n\u001b[0m\u001b[1;32m    287\u001b[0m \u001b[0;34m\u001b[0m\u001b[0m\n\u001b[1;32m    288\u001b[0m     \u001b[0;32mdef\u001b[0m \u001b[0m__repr__\u001b[0m\u001b[0;34m(\u001b[0m\u001b[0mself\u001b[0m\u001b[0;34m)\u001b[0m\u001b[0;34m:\u001b[0m\u001b[0;34m\u001b[0m\u001b[0;34m\u001b[0m\u001b[0m\n",
            "\u001b[0;32m/usr/local/lib/python3.9/dist-packages/selenium/webdriver/remote/webdriver.py\u001b[0m in \u001b[0;36mstart_session\u001b[0;34m(self, capabilities, browser_profile)\u001b[0m\n\u001b[1;32m    376\u001b[0m         \u001b[0mw3c_caps\u001b[0m \u001b[0;34m=\u001b[0m \u001b[0m_make_w3c_caps\u001b[0m\u001b[0;34m(\u001b[0m\u001b[0mcapabilities\u001b[0m\u001b[0;34m)\u001b[0m\u001b[0;34m\u001b[0m\u001b[0;34m\u001b[0m\u001b[0m\n\u001b[1;32m    377\u001b[0m         \u001b[0mparameters\u001b[0m \u001b[0;34m=\u001b[0m \u001b[0;34m{\u001b[0m\u001b[0;34m\"capabilities\"\u001b[0m\u001b[0;34m:\u001b[0m \u001b[0mw3c_caps\u001b[0m\u001b[0;34m}\u001b[0m\u001b[0;34m\u001b[0m\u001b[0;34m\u001b[0m\u001b[0m\n\u001b[0;32m--> 378\u001b[0;31m         \u001b[0mresponse\u001b[0m \u001b[0;34m=\u001b[0m \u001b[0mself\u001b[0m\u001b[0;34m.\u001b[0m\u001b[0mexecute\u001b[0m\u001b[0;34m(\u001b[0m\u001b[0mCommand\u001b[0m\u001b[0;34m.\u001b[0m\u001b[0mNEW_SESSION\u001b[0m\u001b[0;34m,\u001b[0m \u001b[0mparameters\u001b[0m\u001b[0;34m)\u001b[0m\u001b[0;34m\u001b[0m\u001b[0;34m\u001b[0m\u001b[0m\n\u001b[0m\u001b[1;32m    379\u001b[0m         \u001b[0;32mif\u001b[0m \u001b[0;34m\"sessionId\"\u001b[0m \u001b[0;32mnot\u001b[0m \u001b[0;32min\u001b[0m \u001b[0mresponse\u001b[0m\u001b[0;34m:\u001b[0m\u001b[0;34m\u001b[0m\u001b[0;34m\u001b[0m\u001b[0m\n\u001b[1;32m    380\u001b[0m             \u001b[0mresponse\u001b[0m \u001b[0;34m=\u001b[0m \u001b[0mresponse\u001b[0m\u001b[0;34m[\u001b[0m\u001b[0;34m\"value\"\u001b[0m\u001b[0;34m]\u001b[0m\u001b[0;34m\u001b[0m\u001b[0;34m\u001b[0m\u001b[0m\n",
            "\u001b[0;32m/usr/local/lib/python3.9/dist-packages/selenium/webdriver/remote/webdriver.py\u001b[0m in \u001b[0;36mexecute\u001b[0;34m(self, driver_command, params)\u001b[0m\n\u001b[1;32m    438\u001b[0m         \u001b[0mresponse\u001b[0m \u001b[0;34m=\u001b[0m \u001b[0mself\u001b[0m\u001b[0;34m.\u001b[0m\u001b[0mcommand_executor\u001b[0m\u001b[0;34m.\u001b[0m\u001b[0mexecute\u001b[0m\u001b[0;34m(\u001b[0m\u001b[0mdriver_command\u001b[0m\u001b[0;34m,\u001b[0m \u001b[0mparams\u001b[0m\u001b[0;34m)\u001b[0m\u001b[0;34m\u001b[0m\u001b[0;34m\u001b[0m\u001b[0m\n\u001b[1;32m    439\u001b[0m         \u001b[0;32mif\u001b[0m \u001b[0mresponse\u001b[0m\u001b[0;34m:\u001b[0m\u001b[0;34m\u001b[0m\u001b[0;34m\u001b[0m\u001b[0m\n\u001b[0;32m--> 440\u001b[0;31m             \u001b[0mself\u001b[0m\u001b[0;34m.\u001b[0m\u001b[0merror_handler\u001b[0m\u001b[0;34m.\u001b[0m\u001b[0mcheck_response\u001b[0m\u001b[0;34m(\u001b[0m\u001b[0mresponse\u001b[0m\u001b[0;34m)\u001b[0m\u001b[0;34m\u001b[0m\u001b[0;34m\u001b[0m\u001b[0m\n\u001b[0m\u001b[1;32m    441\u001b[0m             \u001b[0mresponse\u001b[0m\u001b[0;34m[\u001b[0m\u001b[0;34m\"value\"\u001b[0m\u001b[0;34m]\u001b[0m \u001b[0;34m=\u001b[0m \u001b[0mself\u001b[0m\u001b[0;34m.\u001b[0m\u001b[0m_unwrap_value\u001b[0m\u001b[0;34m(\u001b[0m\u001b[0mresponse\u001b[0m\u001b[0;34m.\u001b[0m\u001b[0mget\u001b[0m\u001b[0;34m(\u001b[0m\u001b[0;34m\"value\"\u001b[0m\u001b[0;34m,\u001b[0m \u001b[0;32mNone\u001b[0m\u001b[0;34m)\u001b[0m\u001b[0;34m)\u001b[0m\u001b[0;34m\u001b[0m\u001b[0;34m\u001b[0m\u001b[0m\n\u001b[1;32m    442\u001b[0m             \u001b[0;32mreturn\u001b[0m \u001b[0mresponse\u001b[0m\u001b[0;34m\u001b[0m\u001b[0;34m\u001b[0m\u001b[0m\n",
            "\u001b[0;32m/usr/local/lib/python3.9/dist-packages/selenium/webdriver/remote/errorhandler.py\u001b[0m in \u001b[0;36mcheck_response\u001b[0;34m(self, response)\u001b[0m\n\u001b[1;32m    243\u001b[0m                 \u001b[0malert_text\u001b[0m \u001b[0;34m=\u001b[0m \u001b[0mvalue\u001b[0m\u001b[0;34m[\u001b[0m\u001b[0;34m\"alert\"\u001b[0m\u001b[0;34m]\u001b[0m\u001b[0;34m.\u001b[0m\u001b[0mget\u001b[0m\u001b[0;34m(\u001b[0m\u001b[0;34m\"text\"\u001b[0m\u001b[0;34m)\u001b[0m\u001b[0;34m\u001b[0m\u001b[0;34m\u001b[0m\u001b[0m\n\u001b[1;32m    244\u001b[0m             \u001b[0;32mraise\u001b[0m \u001b[0mexception_class\u001b[0m\u001b[0;34m(\u001b[0m\u001b[0mmessage\u001b[0m\u001b[0;34m,\u001b[0m \u001b[0mscreen\u001b[0m\u001b[0;34m,\u001b[0m \u001b[0mstacktrace\u001b[0m\u001b[0;34m,\u001b[0m \u001b[0malert_text\u001b[0m\u001b[0;34m)\u001b[0m  \u001b[0;31m# type: ignore[call-arg]  # mypy is not smart enough here\u001b[0m\u001b[0;34m\u001b[0m\u001b[0;34m\u001b[0m\u001b[0m\n\u001b[0;32m--> 245\u001b[0;31m         \u001b[0;32mraise\u001b[0m \u001b[0mexception_class\u001b[0m\u001b[0;34m(\u001b[0m\u001b[0mmessage\u001b[0m\u001b[0;34m,\u001b[0m \u001b[0mscreen\u001b[0m\u001b[0;34m,\u001b[0m \u001b[0mstacktrace\u001b[0m\u001b[0;34m)\u001b[0m\u001b[0;34m\u001b[0m\u001b[0;34m\u001b[0m\u001b[0m\n\u001b[0m",
            "\u001b[0;31mWebDriverException\u001b[0m: Message: unknown error: cannot find Chrome binary\nStacktrace:\n#0 0x55bf61c9cfe3 <unknown>\n#1 0x55bf619dbd36 <unknown>\n#2 0x55bf61a02f4a <unknown>\n#3 0x55bf61a00a9b <unknown>\n#4 0x55bf61a42af7 <unknown>\n#5 0x55bf61a4211f <unknown>\n#6 0x55bf61a39693 <unknown>\n#7 0x55bf61a0c03a <unknown>\n#8 0x55bf61a0d17e <unknown>\n#9 0x55bf61c5edbd <unknown>\n#10 0x55bf61c62c6c <unknown>\n#11 0x55bf61c6c4b0 <unknown>\n#12 0x55bf61c63d63 <unknown>\n#13 0x55bf61c36c35 <unknown>\n#14 0x55bf61c87138 <unknown>\n#15 0x55bf61c872c7 <unknown>\n#16 0x55bf61c95093 <unknown>\n#17 0x7fd9b8530609 start_thread\n"
          ]
        }
      ],
      "source": [
        "# import the webdriver\n",
        "options = webdriver.ChromeOptions()\n",
        "options.add_argument('--ignore-certificate-errors')\n",
        "options.add_argument('--incognito')\n",
        "options.add_argument('--headless')\n",
        "driver = webdriver.Chrome(options=options)\n"
      ]
    },
    {
      "cell_type": "code",
      "execution_count": null,
      "id": "e26ce480",
      "metadata": {
        "id": "e26ce480"
      },
      "outputs": [],
      "source": [
        "# Set the URL and options for the Chrome driver\n",
        "url = 'https://www.yelp.com/search?find_desc=&find_loc=Rochester%2C+NY+14604'\n",
        "# Initialize the DataFrame\n",
        "df = pd.DataFrame()\n",
        "\n",
        "# Loop through each page of the search results\n",
        "for i in range(0, 20):\n",
        "    # Construct the URL for the current page\n",
        "    if i == 0:\n",
        "        page_url = url\n",
        "    else:\n",
        "        page_url = f\"{url}&start={i*10}\"\n",
        "\n",
        "    # Send a request to the URL and parse the HTML content with BeautifulSoup\n",
        "    req = Request(page_url, headers={'User-Agent': 'Mozilla/6.0'})\n",
        "    soup = BeautifulSoup(urlopen(req).read(),'html.parser')\n",
        "\n",
        "    # Initialize the Chrome driver and wait for the page to load\n",
        "    driver = webdriver.Chrome(options=options)\n",
        "    driver.get(page_url)\n",
        "    time.sleep(3)\n",
        "\n",
        "    # Find all the restaurants on the page and extract their information\n",
        "    restaurants = soup.find_all(\"li\",class_=\"border-color--default__09f24__NPAKY\")\n",
        "    for restaurant in restaurants:\n",
        "        try:\n",
        "            businessName = restaurant.find('a','css-1m051bw').get_text()\n",
        "            stars = restaurant.find('div','five-stars--regular__09f24__DgBNj').get(\"aria-label\")\n",
        "            noOfReviewers = restaurant.find('span','css-chan6m').get_text()\n",
        "            cuisines = restaurant.find('span','css-11bijt4')\n",
        "            if cuisines is not None:\n",
        "                cuisine = cuisines.get_text()\n",
        "            locations = restaurant.find('p',\"css-dzq7l1\")\n",
        "            if locations is not None:\n",
        "                location_inc = locations.get_text()\n",
        "                splt = location_inc.split(\"$\")\n",
        "                location = splt[-1]\n",
        "            priceRange = restaurant.find('span','priceRange__09f24__mmOuH css-1s7bx9e').get_text()\n",
        "            topReview = restaurant.find('p','css-16lklrv').get_text()\n",
        "\n",
        "            resturantstats = [businessName, stars, noOfReviewers, cuisine, location, priceRange, topReview]\n",
        "            tempdf = pd.DataFrame(resturantstats).transpose()\n",
        "            df = pd.concat([df,tempdf],ignore_index=True)\n",
        "        except:\n",
        "            pass\n",
        "\n",
        "    # Quit the Chrome driver\n",
        "    driver.quit()\n",
        "\n",
        "# Print the first 10 rows of the DataFrame\n",
        "print(df.head(10))\n",
        "\n"
      ]
    },
    {
      "cell_type": "code",
      "execution_count": null,
      "id": "371814f2",
      "metadata": {
        "id": "371814f2"
      },
      "outputs": [],
      "source": [
        "df.columns=[\"businessName\",\"stars\",\"noOfReviewers\",\"cusine\",\"location\",\"priceRange\",\"topReview\"]\n",
        "df = df.drop_duplicates(keep='first')"
      ]
    },
    {
      "cell_type": "code",
      "execution_count": null,
      "id": "4cf7cbd1",
      "metadata": {
        "id": "4cf7cbd1"
      },
      "outputs": [],
      "source": [
        "for i in range(len(df)):\n",
        "    if((df.noOfReviewers[i]=='Upper Mount Hope') or (df.noOfReviewers[i]=='Center City')or(df.noOfReviewers[i]=='East End')or(df.noOfReviewers[i]=='')):\n",
        "       df.noOfReviewers[i]=10\n",
        "df.noOfReviewers=df.noOfReviewers.astype(int)"
      ]
    },
    {
      "cell_type": "code",
      "execution_count": null,
      "id": "2210fc54",
      "metadata": {
        "id": "2210fc54"
      },
      "outputs": [],
      "source": []
    },
    {
      "cell_type": "code",
      "execution_count": null,
      "id": "8ba76a4d",
      "metadata": {
        "scrolled": true,
        "id": "8ba76a4d"
      },
      "outputs": [],
      "source": [
        "for i in range(len(df)):\n",
        "    stars=(df.stars[i].split(\" \"))\n",
        "    df.stars[i]=stars[0]"
      ]
    },
    {
      "cell_type": "code",
      "execution_count": null,
      "id": "a5c2518f",
      "metadata": {
        "id": "a5c2518f"
      },
      "outputs": [],
      "source": [
        "df.stars=df.stars.astype(float)"
      ]
    },
    {
      "cell_type": "code",
      "execution_count": null,
      "id": "d66fb0d7",
      "metadata": {
        "id": "d66fb0d7"
      },
      "outputs": [],
      "source": [
        "df.dtypes"
      ]
    },
    {
      "cell_type": "code",
      "execution_count": null,
      "id": "7a1b4c8f",
      "metadata": {
        "id": "7a1b4c8f"
      },
      "outputs": [],
      "source": [
        "\n",
        "# Plot the bar plot\n",
        "sns.barplot(y='noOfReviewers', x='stars', data=df)\n",
        "plt.ylabel('Number of Reviewers')\n",
        "plt.xlabel('Star Rating')\n",
        "plt.title('Relationship between Number of Reviewers and Star Rating')\n",
        "plt.show()\n"
      ]
    },
    {
      "cell_type": "code",
      "execution_count": null,
      "id": "44a88422",
      "metadata": {
        "id": "44a88422"
      },
      "outputs": [],
      "source": [
        "#identify top 10 cuisines of ROC\n",
        "\n",
        "# Count the number of occurrences of each cuisine\n",
        "cuisine_counts = df['cusine'].value_counts().head(10)\n",
        "\n",
        "# Plot the bar chart\n",
        "plt.bar(cuisine_counts.index, cuisine_counts.values)\n",
        "plt.xticks(rotation=90)\n",
        "plt.xlabel('Cuisine')\n",
        "plt.ylabel('Number of Restaurants')\n",
        "plt.title('Top 10 Cuisines in Rochester, NY')\n",
        "plt.show()"
      ]
    },
    {
      "cell_type": "code",
      "execution_count": null,
      "id": "71946984",
      "metadata": {
        "id": "71946984"
      },
      "outputs": [],
      "source": [
        "# Filter the DataFrame to include only the top 10 cuisines\n",
        "top_cuisines = df['cusine'].value_counts().head(10).index\n",
        "df_top_cuisines = df[df['cusine'].isin(top_cuisines)]\n",
        "\n",
        "# Plot the box plot\n",
        "sns.boxplot(y='cusine', x='stars', data=df_top_cuisines)\n",
        "plt.xticks(rotation=0)\n",
        "plt.ylabel('Cuisine')\n",
        "plt.xlabel('Star Rating')\n",
        "plt.title('Distribution of Star Ratings by Cuisine')\n",
        "plt.show()"
      ]
    },
    {
      "cell_type": "code",
      "execution_count": null,
      "id": "e7d051e8",
      "metadata": {
        "id": "e7d051e8"
      },
      "outputs": [],
      "source": [
        " df['priceRange'].unique()"
      ]
    },
    {
      "cell_type": "code",
      "execution_count": null,
      "id": "785fad66",
      "metadata": {
        "scrolled": true,
        "id": "785fad66"
      },
      "outputs": [],
      "source": [
        "for i in range(len(df)):\n",
        "    if(df.location[i]=='GelatoIce Cream & Frozen YogurtPatisserie/Cake Shop'):\n",
        "        df.location[i]='Downtown'\n",
        "    elif(df.location[i]=='Coffee & TeaUpper Mount Hope'):\n",
        "        df.location[i]='Mount Hope'\n",
        "    elif(df.location[i]=='Coffee & TeaBreakfast & BrunchUpper Mount Hope'):\n",
        "        df.location[i]='Mount Hope'\n",
        "    elif(df.location[i]=='Patisserie/Cake ShopGelatoIce Cream & Frozen Yogurt'):\n",
        "        df.location[i]='Downtown'\n",
        "    elif(df.location[i]=='ItalianWine BarsTapas/Small PlatesEast End'):\n",
        "        df.location[i]='East End'\n",
        "    elif(df.location[i]=='BarsChicken WingsPizzaEast End'):\n",
        "        df.location[i]='East End'\n",
        "    elif(df.location[i]=='Ice Cream & Frozen YogurtPatisserie/Cake ShopGelato'):\n",
        "        df.location[i]='Downtown'\n",
        "    elif(df.location[i]=='DelisSandwichesBreakfast & BrunchCenter City'):\n",
        "        df.location[i]='Center City'\n",
        "    elif(df.location[i]=='Ice Cream & Frozen YogurtGelatoPatisserie/Cake Shop'):\n",
        "        df.location[i]='Downtown'\n",
        "    elif(df.location[i]=='Themed CafesPet AdoptionEast End'):\n",
        "        df.location[i]='East End'"
      ]
    },
    {
      "cell_type": "code",
      "execution_count": null,
      "id": "3c30f1c4",
      "metadata": {
        "scrolled": false,
        "id": "3c30f1c4"
      },
      "outputs": [],
      "source": [
        "# create a count plot\n",
        "sns.countplot(x='location', hue='priceRange', data=df)\n",
        "\n",
        "# set the title and axis labels\n",
        "plt.title('Number of restaurants by price range and location')\n",
        "plt.xlabel('Location')\n",
        "plt.ylabel('Number of restaurants')\n",
        "\n",
        "# show the plot\n",
        "plt.show()"
      ]
    },
    {
      "cell_type": "code",
      "execution_count": null,
      "id": "3a8f1ae1",
      "metadata": {
        "id": "3a8f1ae1"
      },
      "outputs": [],
      "source": []
    },
    {
      "cell_type": "code",
      "execution_count": null,
      "id": "ce6442c8",
      "metadata": {
        "id": "ce6442c8"
      },
      "outputs": [],
      "source": [
        "import gensim.downloader as api\n",
        "wv = api.load(\"glove-wiki-gigaword-300\")\n",
        "model=wv"
      ]
    },
    {
      "cell_type": "code",
      "execution_count": null,
      "id": "47bdfe70",
      "metadata": {
        "id": "47bdfe70"
      },
      "outputs": [],
      "source": [
        "model_yummy=model['yummy']"
      ]
    },
    {
      "cell_type": "code",
      "execution_count": null,
      "id": "fcf90824",
      "metadata": {
        "id": "fcf90824"
      },
      "outputs": [],
      "source": [
        "keys =list(df.topReview)\n",
        "keys"
      ]
    },
    {
      "cell_type": "code",
      "execution_count": null,
      "id": "6c144569",
      "metadata": {
        "id": "6c144569"
      },
      "outputs": [],
      "source": [
        "model['yummy']"
      ]
    },
    {
      "cell_type": "code",
      "execution_count": null,
      "id": "eae55c91",
      "metadata": {
        "scrolled": true,
        "id": "eae55c91"
      },
      "outputs": [],
      "source": [
        "model.most_similar(\"yummy\")"
      ]
    },
    {
      "cell_type": "code",
      "execution_count": null,
      "id": "468317d2",
      "metadata": {
        "id": "468317d2"
      },
      "outputs": [],
      "source": [
        "corpus=list(df.topReview)"
      ]
    },
    {
      "cell_type": "code",
      "execution_count": null,
      "id": "de94ce6c",
      "metadata": {
        "id": "de94ce6c"
      },
      "outputs": [],
      "source": [
        "import nltk\n",
        "from nltk.corpus import stopwords\n",
        "\n",
        "# Download the stop words from the NLTK library\n",
        "nltk.download('stopwords')\n",
        "\n",
        "# Load the stop words\n",
        "stop_words = set(stopwords.words('english'))\n",
        "\n",
        "# Remove the stop words from the corpus\n",
        "filtered_corpus = []\n",
        "for doc in corpus:\n",
        "    words = doc.split()\n",
        "    filtered_words = [word for word in words if word.lower() not in stop_words]\n",
        "    filtered_corpus.append(' '.join(filtered_words))\n",
        "\n",
        "# Print the filtered corpus\n",
        "print(filtered_corpus)\n"
      ]
    },
    {
      "cell_type": "code",
      "execution_count": null,
      "id": "17effcc8",
      "metadata": {
        "id": "17effcc8"
      },
      "outputs": [],
      "source": [
        "import nltk\n",
        "import string\n",
        "from nltk.corpus import stopwords\n",
        "\n",
        "\n",
        "# Download the stop words from the NLTK library\n",
        "nltk.download('stopwords')\n",
        "\n",
        "# Load the stop words\n",
        "stop_words = set(stopwords.words('english'))\n",
        "\n",
        "# Remove stop words and special characters from the corpus\n",
        "filtered_corpus = []\n",
        "for doc in corpus:\n",
        "    # Remove special characters and convert to lower case\n",
        "    doc = doc.translate(str.maketrans('', '', string.punctuation)).lower()\n",
        "    # Split the document into words\n",
        "    words = doc.split()\n",
        "    # Filter out the stop words and rejoin the words into sentences\n",
        "    filtered_words = [word for word in words if word not in stop_words]\n",
        "    filtered_corpus.append(' '.join(filtered_words))\n",
        "\n",
        "# Print the filtered corpus\n",
        "print(filtered_corpus)\n"
      ]
    },
    {
      "cell_type": "code",
      "execution_count": null,
      "id": "e7d29417",
      "metadata": {
        "scrolled": true,
        "id": "e7d29417"
      },
      "outputs": [],
      "source": [
        "# Create a set of frequent words\n",
        "stoplist = set('for a of the and to in'.split(' '))\n",
        "# Lowercase each document, split it by white space and filter out stopwords\n",
        "texts = [[word for word in df.lower().split() if word not in stoplist]\n",
        "         for df in filtered_corpus]\n",
        "\n",
        "# Count word frequencies\n",
        "from collections import defaultdict\n",
        "frequency = defaultdict(int)\n",
        "for text in texts:\n",
        "    for token in text:\n",
        "        frequency[token] += 1\n",
        "\n",
        "# Only keep words that appear more than once\n",
        "processed_corpus = [[token for token in text if frequency[token] > 1] for text in texts]\n",
        "print(processed_corpus)"
      ]
    },
    {
      "cell_type": "code",
      "execution_count": null,
      "id": "38c459ef",
      "metadata": {
        "id": "38c459ef"
      },
      "outputs": [],
      "source": [
        "from gensim import corpora\n",
        "\n",
        "dictionary = corpora.Dictionary(processed_corpus)\n",
        "print(dictionary)"
      ]
    },
    {
      "cell_type": "code",
      "execution_count": null,
      "id": "91f1205e",
      "metadata": {
        "id": "91f1205e"
      },
      "outputs": [],
      "source": [
        "from collections import Counter\n",
        "\n",
        "# Example array of arrays\n",
        "#words = [['apple', 'banana', 'apple'], ['banana', 'cherry', 'date'], ['apple', 'date', 'date']]\n",
        "\n",
        "# Flatten the array of arrays into a single list of words\n",
        "flattened_corpus = [processed_corpus for sublist in processed_corpus for processed_corpus in sublist]\n",
        "\n",
        "# Use Counter to count the frequency of each word\n",
        "word_counts = Counter(flattened_corpus)\n",
        "\n",
        "# Print the word counts\n",
        "print(word_counts)\n"
      ]
    },
    {
      "cell_type": "code",
      "execution_count": null,
      "id": "034e35f6",
      "metadata": {
        "id": "034e35f6"
      },
      "outputs": [],
      "source": [
        "pip install wordcloud"
      ]
    },
    {
      "cell_type": "code",
      "execution_count": null,
      "id": "0fa5ca69",
      "metadata": {
        "id": "0fa5ca69"
      },
      "outputs": [],
      "source": [
        "from wordcloud import WordCloud\n",
        "import matplotlib.pyplot as plt\n",
        "# Generate the word cloud\n",
        "wordcloud = WordCloud(background_color='white').generate_from_frequencies(word_counts)\n",
        "\n",
        "# Display the generated image:\n",
        "plt.figure()\n",
        "plt.imshow(wordcloud, interpolation=\"bilinear\")\n",
        "plt.axis(\"off\")\n",
        "plt.show()"
      ]
    },
    {
      "cell_type": "code",
      "execution_count": null,
      "id": "a3d5f6ac",
      "metadata": {
        "id": "a3d5f6ac"
      },
      "outputs": [],
      "source": []
    },
    {
      "cell_type": "code",
      "execution_count": null,
      "id": "ad613084",
      "metadata": {
        "id": "ad613084"
      },
      "outputs": [],
      "source": [
        "from gensim.models.doc2vec import Doc2Vec, TaggedDocument\n",
        "from sklearn.manifold import TSNE\n",
        "\n",
        "\n",
        "# Define a function to preprocess text data\n",
        "def preprocess_text(text):\n",
        "    # Remove punctuation and convert to lowercase\n",
        "    text = re.sub(r'[^\\w\\s]', '', text).lower()\n",
        "    # Split text into individual words\n",
        "    words = text.split()\n",
        "    # Remove stop words\n",
        "    # words = [word for word in words if word not in stop_words]\n",
        "    # Join the words back into a single string and return\n",
        "    return ' '.join(words)\n",
        "\n",
        "# Preprocess the text data\n",
        "df['processed_review'] = df['topReview'].apply(preprocess_text)\n",
        "\n",
        "# Tokenize the text data and train a Doc2Vec model\n",
        "tagged_docs = [TaggedDocument(words=doc.split(), tags=[i]) for i, doc in enumerate(df['processed_review'])]\n",
        "doc2vec_model = Doc2Vec(tagged_docs, vector_size=100, window=5, min_count=2, workers=4, epochs=100)\n",
        "\n",
        "# Get the vector representation for each document\n",
        "doc_vectors = [doc2vec_model.infer_vector(doc.words) for doc in tagged_docs]\n",
        "\n",
        "# Convert the vectors to a numpy array\n",
        "doc_vectors = np.array(doc_vectors)\n",
        "\n",
        "# Compute t-SNE on the document vectors\n",
        "tsne = TSNE(n_components=2, verbose=1, perplexity=40, n_iter=300)\n",
        "tsne_results = tsne.fit_transform(doc_vectors)\n",
        "\n",
        "# Plot the t-SNE results\n",
        "plt.scatter(tsne_results[:,0], tsne_results[:,1])\n",
        "plt.show()\n",
        "\n"
      ]
    },
    {
      "cell_type": "code",
      "execution_count": null,
      "id": "12df4ba7",
      "metadata": {
        "id": "12df4ba7"
      },
      "outputs": [],
      "source": []
    }
  ],
  "metadata": {
    "kernelspec": {
      "display_name": "Python 3 (ipykernel)",
      "language": "python",
      "name": "python3"
    },
    "language_info": {
      "codemirror_mode": {
        "name": "ipython",
        "version": 3
      },
      "file_extension": ".py",
      "mimetype": "text/x-python",
      "name": "python",
      "nbconvert_exporter": "python",
      "pygments_lexer": "ipython3",
      "version": "3.9.13"
    },
    "colab": {
      "provenance": []
    }
  },
  "nbformat": 4,
  "nbformat_minor": 5
}